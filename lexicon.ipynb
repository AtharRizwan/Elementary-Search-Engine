{
 "cells": [
  {
   "attachments": {},
   "cell_type": "markdown",
   "metadata": {},
   "source": [
    "# Required Imports"
   ]
  },
  {
   "cell_type": "code",
   "execution_count": 1,
   "metadata": {},
   "outputs": [
    {
     "name": "stderr",
     "output_type": "stream",
     "text": [
      "[nltk_data] Downloading package wordnet to\n",
      "[nltk_data]     C:\\Users\\athar\\AppData\\Roaming\\nltk_data...\n",
      "[nltk_data]   Package wordnet is already up-to-date!\n",
      "[nltk_data] Downloading package omw-1.4 to\n",
      "[nltk_data]     C:\\Users\\athar\\AppData\\Roaming\\nltk_data...\n",
      "[nltk_data]   Package omw-1.4 is already up-to-date!\n",
      "[nltk_data] Downloading package stopwords to\n",
      "[nltk_data]     C:\\Users\\athar\\AppData\\Roaming\\nltk_data...\n",
      "[nltk_data]   Package stopwords is already up-to-date!\n"
     ]
    }
   ],
   "source": [
    "import os\n",
    "import warnings\n",
    "import json\n",
    "import re\n",
    "import nltk\n",
    "from collections import Counter\n",
    "from nltk.corpus import stopwords\n",
    "from nltk.stem import WordNetLemmatizer\n",
    "nltk.download(\"wordnet\")\n",
    "nltk.download(\"omw-1.4\")\n",
    "nltk.download('stopwords')\n",
    "# Initialize Word_Net_Lemmatizer\n",
    "lemmatizer = WordNetLemmatizer()\n",
    "\n",
    "warnings.filterwarnings('ignore')"
   ]
  },
  {
   "attachments": {},
   "cell_type": "markdown",
   "metadata": {},
   "source": [
    "# Implementing Lexicon"
   ]
  },
  {
   "cell_type": "code",
   "execution_count": 2,
   "metadata": {},
   "outputs": [],
   "source": [
    "def load_data_from_json(file_path):\n",
    "    with open(file_path, 'r') as file:\n",
    "        data = json.load(file)\n",
    "    return data"
   ]
  },
  {
   "cell_type": "code",
   "execution_count": 3,
   "metadata": {},
   "outputs": [],
   "source": [
    "json_file_path = r\"Files\\articles_sampled_100.json\"\n",
    "json_data = load_data_from_json(json_file_path)"
   ]
  },
  {
   "cell_type": "code",
   "execution_count": 4,
   "metadata": {},
   "outputs": [],
   "source": [
    "# Function that takes in content, preprocesses it, \n",
    "# and converts it to a list of words\n",
    "def pre_process_string(content):\n",
    "    # Remove \\n and \\t\n",
    "    content = content.replace('\\n', ' ')\n",
    "    content = content.replace('\\t', ' ')\n",
    "    # Remove all non-characters\n",
    "    content = re.sub(r'[^a-zA-Z\\s]', ' ', content)\n",
    "    # Remove multiple spaces\n",
    "    content = re.sub(r'\\s+', ' ', content)\n",
    "    # Convert all characters to lowercase\n",
    "    content = content.lower()\n",
    "    # Convert the title into a list of words\n",
    "    content = content.split()\n",
    "    # Remove one and two character words\n",
    "    content = [word for word in content if len(word) > 2]\n",
    "    # Remove stop_words using nltk\n",
    "    content = [word for word in content if not word in stopwords.words('english')]\n",
    "    return content\n",
    "    \n",
    "# Function that takes in a list of words and adds them to the lexicon\n",
    "def build_lexicon(words, lexicon):\n",
    "    # Build the lexicon\n",
    "    new_words = []\n",
    "    # Look through the words\n",
    "    for word in words:\n",
    "        # Lemmatize the word\n",
    "        word = lemmatizer.lemmatize(word)\n",
    "        # if that word is not already in lexicon\n",
    "        if word not in lexicon and word not in new_words:\n",
    "            # Then add it\n",
    "            new_words.append(word)\n",
    "    lexicon.extend(new_words)\n",
    "    return lexicon\n",
    "\n",
    "def sort_lexicon():\n",
    "    # Load the lexicon\n",
    "    data = load_data_from_json(r\"Files\\lexicon.json\")\n",
    "    with open(r\"Files\\lexicon.json\", \"w\") as file:\n",
    "        # sort the data\n",
    "        data = sorted(data)\n",
    "        json.dump(data, file)\n",
    "\n",
    "# Function to build forward index from raw articles\n",
    "def build_forward_index(articles):\n",
    "    # initialize forward_index\n",
    "    forward_index = dict()\n",
    "    # Load the already existing forward_index\n",
    "    try:\n",
    "        data = load_data_from_json(r\"Files\\forward_index.json\")\n",
    "    except:\n",
    "        with open(r\"Files\\forward_index.json\", \"w\") as file:\n",
    "            json.dump(dict(), file)\n",
    "        data = load_data_from_json(r\"Files\\forward_index.json\")\n",
    "    # Load the lexicon\n",
    "    try:\n",
    "        lexicon = load_data_from_json(r\"Files\\lexicon.json\")\n",
    "    except:\n",
    "        with open(r\"Files\\lexicon.json\", \"w\") as file:\n",
    "            json.dump(list(), file)\n",
    "        lexicon = load_data_from_json(r\"Files\\lexicon.json\")\n",
    "    num_articles = len(data)\n",
    "    # Extract all urls currently indexed\n",
    "    try:\n",
    "        article_urls = [article['url'] for article in data.values()]\n",
    "    except:\n",
    "        article_urls = []\n",
    "    # For each article\n",
    "    for article in articles:\n",
    "        # if article is not already forward indexed\n",
    "        if article['url'] not in article_urls:\n",
    "            # Pre-process the title and content\n",
    "            title_words = pre_process_string(article['title'])\n",
    "            content_words = pre_process_string(article['content'])\n",
    "            # Update the lexicon\n",
    "            lexicon = build_lexicon(title_words + content_words, lexicon)\n",
    "            # Lemmatize the words in content and title\n",
    "            content_words = [lemmatizer.lemmatize(word) for word in content_words]\n",
    "            title_words = [lemmatizer.lemmatize(word) for word in title_words]\n",
    "            # Convert the words in title and content to their respective indexes\n",
    "            content_ids = [lexicon.index(word) for word in content_words]\n",
    "            title_ids = [lexicon.index(word) for word in title_words]\n",
    "            # Count the frequencies of words\n",
    "            frequency = Counter((title_ids * 10) + content_ids)\n",
    "            forward_index[num_articles] = {'title': article['title'], 'url': article['url'], 'hitlist': frequency}\n",
    "            # Add the url to the article\n",
    "            article_urls.append(article['url'])\n",
    "            num_articles += 1\n",
    "    data.update(forward_index)\n",
    "    # Update the lexicon json file\n",
    "    with open(r\"Files\\lexicon.json\", \"w\") as file:\n",
    "        json.dump(lexicon, file)\n",
    "    # Update the forward_index json file\n",
    "    with open(r\"Files\\forward_index.json\", \"w\") as file:\n",
    "        json.dump(data, file)"
   ]
  },
  {
   "cell_type": "code",
   "execution_count": 5,
   "metadata": {},
   "outputs": [
    {
     "name": "stdout",
     "output_type": "stream",
     "text": [
      "CPU times: total: 46.9 ms\n",
      "Wall time: 81.8 ms\n"
     ]
    }
   ],
   "source": [
    "%%time\n",
    "build_forward_index(json_data)"
   ]
  },
  {
   "cell_type": "code",
   "execution_count": 22,
   "metadata": {},
   "outputs": [],
   "source": [
    "sort_lexicon()"
   ]
  },
  {
   "cell_type": "code",
   "execution_count": 31,
   "metadata": {},
   "outputs": [
    {
     "name": "stdout",
     "output_type": "stream",
     "text": [
      "CPU times: total: 0 ns\n",
      "Wall time: 0 ns\n"
     ]
    }
   ],
   "source": [
    "%%time\n",
    "lemmatizer = WordNetLemmatizer()\n",
    "words = ['Hello', 'tests', 'forms', 'testers', 'indexes']\n",
    "for i in range(len(words)):\n",
    "    words[i] = lemmatizer.lemmatize(words[i])"
   ]
  },
  {
   "cell_type": "code",
   "execution_count": 32,
   "metadata": {},
   "outputs": [
    {
     "data": {
      "text/plain": [
       "['Hello', 'test', 'form', 'tester', 'index']"
      ]
     },
     "execution_count": 32,
     "metadata": {},
     "output_type": "execute_result"
    }
   ],
   "source": [
    "words"
   ]
  },
  {
   "cell_type": "code",
   "execution_count": 4,
   "metadata": {},
   "outputs": [],
   "source": [
    "# Load the lexicon\n",
    "forward_index = load_data_from_json(r\"Files\\forward_index.json\")"
   ]
  },
  {
   "cell_type": "code",
   "execution_count": 14,
   "metadata": {},
   "outputs": [
    {
     "data": {
      "text/plain": [
       "['https://www.upi.com/Top_News/US/2022/05/18/primaries-pennsylvania-idaho-oregon-kentucky-carolina/3671652801442/',\n",
       " 'https://www.thesun.co.uk/fabulous/19443934/sister-uninvited-wedding-day-white-sequinned-gown/',\n",
       " 'https://therussophile.org/russia-defences-in-kherson-evacuating-civilians-advancing-kharkov-bakhmut-uk-defence-chief-to-dc-3.html/',\n",
       " 'https://www.lawenforcementtoday.com/randi-weingarten-states-teachers-are-social-justice-warriors/',\n",
       " 'https://jacobinmag.com/2022/04/canadian-left-freedom-convoy-populism/',\n",
       " 'https://www.mediaite.com/election-2022/five-more-herschel-walker-exes-come-forward-to-accuse-him-of-terrifying-violent-behavior-i-saw-a-fist-flying-toward-me/',\n",
       " 'https://feeds.feedblitz.com/~/686267874/0/usatoday-newstopstories~Historians-draw-parallels-between-Dont-Say-Gay-legislation-and-Floridas-purge-of-gay-teachers-decades-ago/',\n",
       " 'https://www.charlotteobserver.com/news/politics-government/article268384902.html#storylink=rss',\n",
       " 'https://nypost.com/2022/04/29/california-woman-yesenia-ramirez-charged-in-kidnapping-was-obsessed-with-child-after-meeting-grandma-at-church/',\n",
       " 'https://www.cbsnews.com/news/home-prices-underwater-mortgage/',\n",
       " 'https://tass.com/science/1391687',\n",
       " 'https://www.denverpost.com/2022/03/30/trey-mcbride-40-time-csu-rams-pro-day/',\n",
       " 'https://news.yahoo.com/mcconnell-aligned-super-pac-pulls-223631498.html',\n",
       " 'https://www.climatedepot.com/2022/05/24/watch-how-esg-green-ideology-created-the-energy-supply-crisis-intended-consequences/',\n",
       " 'https://www.cnn.com/2022/07/10/africa/soweto-south-africa-shooting-intl/index.html',\n",
       " 'https://brightside.me/wonder-films/20-curious-facts-about-the-most-iconic-movies-of-all-times-not-even-true-movie-experts-may-know-807656/',\n",
       " 'https://www.pbs.org/newshour/show/americans-with-disabilities-fight-for-access-as-states-enforce-restrictive-voting-laws',\n",
       " 'https://www.cbsnews.com/news/hillary-clinton-covid-19-bill-clinton/',\n",
       " 'https://labourlist.org/2022/07/if-this-tory-anti-strike-measure-had-been-in-place-last-year-i-would-be-homeless/',\n",
       " 'https://www.newyorker.com/news/the-new-yorker-interview/we-have-to-get-out-of-this-phase-ashish-jha-on-the-future-of-the-pandemic',\n",
       " 'https://www.thesun.co.uk/motors/17654923/five-questions-used-car-buyer/',\n",
       " 'https://sputniknews.com/20220718/us-lawmakers-move-to-protect-same-sex-marriages-after-high-court-hinted-at-desire-to-overturn-1097436101.html',\n",
       " 'https://news.yahoo.com/north-carolina-biden-defends-handling-091559914.html',\n",
       " 'https://www.foxnews.com/politics/nearly-two-months-midterms-biden-endorsed-three-democrats-calling-gop-semi-fascism',\n",
       " 'https://www.independent.co.uk/sport/cricket/england-bangladesh-wellington-england-cricket-south-africa-b2044883.html',\n",
       " 'https://crooksandliars.com/2022/05/cl-heard-you-switching-disqus-commenting',\n",
       " 'https://therussophile.org/flashback-how-bill-gates-monopolized-global-health-2020.html/',\n",
       " 'https://www.independent.co.uk/news/uk/nikita-khrushchev-alex-younger-john-f-kennedy-ukraine-russia-b2068969.html',\n",
       " 'https://www.newsbusters.org/blogs/culture/matt-philbin/2022/10/10/john-cleese-host-show-british-free-speech-channel',\n",
       " 'https://www.irishtimes.com/news/crime-and-law/legal-world-divided-on-legacy-of-retiring-high-court-president-1.4865270',\n",
       " 'https://www.theepochtimes.com/tech-stocks-lead-wall-street-lower-again-nasdaq-falls-2-5-percent_4212154.html',\n",
       " 'https://www.infowars.com/posts/ftx-founder-spent-40-million-as-democrat-midterm-megadonor',\n",
       " 'https://www.npr.org/2022/06/14/1104327135/nevada-governor-primary-results-sisolak-lombardo',\n",
       " 'https://www.theguardian.com/stage/2022/jun/08/laurel-and-hardy-review-a-dream-of-slapstick-and-sadness',\n",
       " 'https://hotair.com/jazz-shaw/2022/04/12/bojo-facing-fines-over-partygate-n461807',\n",
       " 'https://sputniknews.com/20220630/militarization-of-south-pacific-not-being-fuelled-by-china-beijing-slams-kiwi-pms-nato-speech-1096832885.html',\n",
       " 'https://www.sott.net/article/465496-Moderna-plans-three-more-mRNA-vaccines-not-all-for-infection',\n",
       " 'https://www.upi.com/Health_News/2022/12/16/spain-antimicrobial-lipstick-cranberry/2851671223371/',\n",
       " 'https://www.thesun.co.uk/sport/football/20710182/annie-kilner-swimsuit-kyle-walker/',\n",
       " 'https://metro.co.uk/2022/06/27/student-couple-decide-to-live-in-van-to-avoid-uni-accommodation-fees-16895978/',\n",
       " 'https://www.oann.com/wall-street-ends-choppy/?utm_source=rss&utm_medium=rss&utm_campaign=wall-street-ends-choppy',\n",
       " 'https://www.nytimes.com/2022/05/24/dining/where-to-eat-citi-field-mets.html',\n",
       " 'https://www.usnews.com/news/world/articles/2022-07-31/sudan-reports-first-confirmed-monkeypox-case-ministry',\n",
       " 'https://www.independent.co.uk/news/ap-democrats-california-department-of-justice-gavin-newsom-b2153026.html',\n",
       " 'https://www.usnews.com/news/best-states/california/articles/2022-02-07/california-will-lift-mask-mandate-as-omicron-cases-fall',\n",
       " 'https://metro.co.uk/2022/09/07/emmerdale-spoilers-archie-unhappy-over-jai-and-laurels-announcement-17268663/',\n",
       " 'https://www.france24.com/en/live-news/20220308-pakistan-76-0-at-lunch-as-australia-test-heads-for-draw',\n",
       " 'https://www.seattletimes.com/nation-world/australian-pm-takes-goodwill-into-meeting-with-chinas-xi/?utm_source=RSS&utm_medium=Referral&utm_campaign=RSS_all',\n",
       " 'https://needtoknow.news/2022/08/uvalde-families-to-sue-gun-manufacturer-gun-store-as-part-of-massive-27-billion-lawsuit/?utm_source=rss&utm_medium=rss&utm_campaign=uvalde-families-to-sue-gun-manufacturer-gun-store-as-part-of-massive-27-billion-lawsuit',\n",
       " 'https://www.usnews.com/news/business/articles/2022-06-15/asian-stocks-mixed-ahead-of-fed-rate-hike-decision',\n",
       " 'https://www.manchestereveningnews.co.uk/news/tv/william-shatner-shocked-fans-91-24567377',\n",
       " 'http://familysurvivalheadlines.com/bidens-climate-plan-is-inefficient-with-unintended-consequences-economist/',\n",
       " 'https://www.nytimes.com/2022/02/25/health/cdc-omicron-masks-isolation.html',\n",
       " 'https://www.theepochtimes.com/judge-rules-texas-attorney-general-ken-paxton-must-testify-in-abortion-lawsuit_4778642.html',\n",
       " 'https://www.independent.co.uk/sport/rugby/rugby-union/france-australia-tv-channel-time-autumn-nations-b2218036.html',\n",
       " 'https://www.theepochtimes.com/controversial-drug-remdesivir-plays-key-role-in-covid-related-hospital-deaths-dr-ardis_4646394.html',\n",
       " 'https://www.standard.co.uk/news/uk/who-bank-of-england-governor-andrew-bailey-b1037421.html',\n",
       " 'https://www.newsbusters.org/blogs/nb/kyle-drennen/2022/04/07/editors-pick-reload-possibility-nbc-gun-report-broke-law',\n",
       " 'http://www.investmentwatchblog.com/msm-is-trying-to-destroy-the-peoples-convoy-over-this-quote-heres-the-truth/',\n",
       " 'https://shoebat.com/2022/12/01/turkey-now-wants-to-expand-its-control-in-syria-the-us-warns-turkey-not-to-do-it/',\n",
       " 'https://www.bbc.co.uk/news/uk-england-essex-61728569?at_medium=RSS&at_campaign=KARANGA',\n",
       " 'https://www.politico.com/news/2022/12/12/jan-6-select-committee-final-report-00073402',\n",
       " 'https://bonginoreport.com/swamp-watch/ny-times-runs-puff-piece-on-disgraced-ftx-founder-doesnt-mention-connections-to-dems',\n",
       " 'https://instapundit.com/550354/',\n",
       " 'https://www.yahoo.com/now/super-bowl-lvi-pits-matthew-114744398.html',\n",
       " 'https://www.westernjournal.com/shooting-takes-place-mall-america-building-goes-full-lockdown-photos/',\n",
       " 'https://tass.com/society/1539363',\n",
       " 'https://www.theweek.co.uk/quiz-of-the-week/956896/quiz-of-the-week-25-may',\n",
       " 'https://www.thesun.co.uk/sport/betting-tips/19550546/anthony-joshua-oleksandr-usyk-huge-betvictor-special-offer/',\n",
       " 'http://yna.kr/AEN20220920006700315&section=news&input=rss',\n",
       " 'https://www.theepochtimes.com/california-sheriffs-deputy-32-shot-and-killed-by-suspect-out-on-bail-after-kidnapping-police_4952834.html',\n",
       " 'https://bonginoreport.com/articles/biden-dhs-wants-to-ramp-up-efforts-to-flood-us-with-illegal-immigrants',\n",
       " 'https://www.investmentwatchblog.com/the-numbers-are-screaming-that-a-giant-tsunami-of-u-s-layoffs-has-now-begun/',\n",
       " 'https://www.independent.co.uk/news/uk/crime/archie-battersbee-european-court-of-human-rights-royal-london-hospital-whitechapel-court-of-appeal-b2136918.html',\n",
       " 'https://instapundit.com/545344/',\n",
       " 'https://www.usnews.com/news/sports/articles/2022-02-08/ap-sources-pelicans-acquire-c-j-mccollum-in-7-player-trade',\n",
       " 'https://www.independent.co.uk/news/uk/nhs-trusts-b2177630.html',\n",
       " 'https://infiniteunknown.net/2022/05/05/russia-indefinitely-bans-entry-of-japans-prime-minister-among-63-top-officials/',\n",
       " 'https://www.independent.co.uk/sport/rugby/rugby-union/france-wales-live-stream-six-nations-2022-b2033846.html',\n",
       " 'https://tass.com/economy/1405965',\n",
       " 'https://www.manchestereveningnews.co.uk/news/uk-news/man-fined-after-dogs-were-23034939',\n",
       " 'https://www.cnbc.com/2022/08/09/coinbase-coin-earnings-q2-2022.html',\n",
       " 'https://www.bbc.co.uk/news/uk-60146745?at_medium=RSS&at_campaign=KARANGA',\n",
       " 'https://www.standard.co.uk/sport/football/yashin-trophy-2022-winner-courtois-mendy-b1033324.html',\n",
       " 'https://www.lifesitenews.com/news/nba-all-star-andrew-wiggins-regrets-submitting-to-covid-19-shot-despite-winning-championship/',\n",
       " 'https://www.theepochtimes.com/home-torched-killing-one-during-eviction-attempt-in-el-cajon_4452563.html',\n",
       " 'https://www.independent.co.uk/tv/news/scotland-police-anti-overdose-spray-naloxone-b2018118.html',\n",
       " 'https://www.nytimes.com/2022/10/07/us/politics/drone-strikes-biden-trump.html',\n",
       " 'https://www.greenmedinfo.com/article/dietary-vitamin-e-intake-associated-reduced-risk-developing-digestive-diseases',\n",
       " 'https://www.chicagotribune.com/news/breaking/ct-boy-falls-navy-pier-lake-michigan-20220920-kcjum52v5naelgxazscfeiny24-story.html#ed=rss_www.chicagotribune.com/arcio/rss/category/news/',\n",
       " 'https://www.birminghammail.co.uk/news/uk-news/prince-charles-makes-generous-donation-24627584',\n",
       " 'https://www.vox.com/culture/22922007/comedy-isnt-funny-moral-joe-rogan-whitney-cummings-moses-storm-che-diaz',\n",
       " 'https://www.aljazeera.com/news/2022/4/24/french-election-2022-macron-defeats-le-pen-projections',\n",
       " 'https://tennesseestar.com/2022/07/19/your-middle-tennessee-fresh-forecast-with-chief-meteorologist-daphne-deloren-for-tuesday-night-and-wednesday/',\n",
       " 'https://www.independent.co.uk/arts-entertainment/tv/news/sigourney-weaver-great-british-bake-off-b2243498.html',\n",
       " 'https://www.msnbc.com/morning-joe/watch/young-people-were-the-game-changers-in-midterms-says-historian-153884741911',\n",
       " 'https://slate.com/news-and-politics/2022/02/north-carolina-republicans-scotus-gerrymandeering-assault.html?via=rss',\n",
       " 'https://thebl.com/world-news/the-hong-kong-pro-democracy-song-that-infuriated-the-chinese-communist-regime.html',\n",
       " 'https://www.cnn.com/2022/12/24/world/new-minerals-discovered-in-el-ali-meteorite-scn/index.html',\n",
       " 'https://chicago.suntimes.com/news/2022/7/14/23219211/ivana-trump-dead-first-wife-of-former-president-donald-trump-dies-at-73']"
      ]
     },
     "execution_count": 14,
     "metadata": {},
     "output_type": "execute_result"
    }
   ],
   "source": [
    "article_urls = [article['url'] for article in forward_index.values()]\n",
    "article_urls"
   ]
  },
  {
   "attachments": {},
   "cell_type": "markdown",
   "metadata": {},
   "source": [
    "## Implementing inverted index"
   ]
  },
  {
   "cell_type": "code",
   "execution_count": 15,
   "metadata": {},
   "outputs": [],
   "source": [
    "def build_inverted_index():\n",
    "    # Load the forward index\n",
    "    try:\n",
    "        forward_index = load_data_from_json(r\"Files\\forward_index.json\")\n",
    "    except:\n",
    "        with open(r\"Files\\forward_index.json\", \"w\") as file:\n",
    "            json.dump(dict(), file)\n",
    "        forward_index = load_data_from_json(r\"Files\\forward_index.json\")\n",
    "    # Load the inverted index\n",
    "    try:\n",
    "        inverted_index = load_data_from_json(r\"Files\\inverted_index.json\")\n",
    "    except:\n",
    "        with open(r\"Files\\inverted_index.json\", \"w\") as file:\n",
    "            json.dump(dict(), file)\n",
    "        inverted_index = load_data_from_json(r\"Files\\inverted_index.json\")\n",
    "\n",
    "    # Iterate through all articles in the forward_index\n",
    "    for doc_id, data in forward_index.items():\n",
    "        # Look at all words in an article\n",
    "        for word_id in data['hitlist']:\n",
    "            # If that word is not already in inverted index\n",
    "            if word_id not in inverted_index:\n",
    "                # Then create a list at that word_id\n",
    "                inverted_index[word_id] = list()\n",
    "            # And append the doc_id for that word if it is not already there\n",
    "            if doc_id not in inverted_index[word_id]:\n",
    "                inverted_index[word_id].append(doc_id)\n",
    "\n",
    "    # Update the inverted index\n",
    "    with open(r\"Files\\inverted_index.json\", \"w\") as file:\n",
    "        json.dump(inverted_index, file)"
   ]
  },
  {
   "cell_type": "code",
   "execution_count": 21,
   "metadata": {},
   "outputs": [
    {
     "name": "stdout",
     "output_type": "stream",
     "text": [
      "CPU times: total: 62.5 ms\n",
      "Wall time: 86.8 ms\n"
     ]
    }
   ],
   "source": [
    "%%time \n",
    "build_inverted_index()"
   ]
  },
  {
   "cell_type": "code",
   "execution_count": null,
   "metadata": {},
   "outputs": [],
   "source": []
  },
  {
   "cell_type": "code",
   "execution_count": null,
   "metadata": {},
   "outputs": [],
   "source": []
  }
 ],
 "metadata": {
  "kernelspec": {
   "display_name": "Python 3 (ipykernel)",
   "language": "python",
   "name": "python3"
  },
  "language_info": {
   "codemirror_mode": {
    "name": "ipython",
    "version": 3
   },
   "file_extension": ".py",
   "mimetype": "text/x-python",
   "name": "python",
   "nbconvert_exporter": "python",
   "pygments_lexer": "ipython3",
   "version": "3.9.13"
  }
 },
 "nbformat": 4,
 "nbformat_minor": 4
}
