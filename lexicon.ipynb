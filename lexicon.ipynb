{
 "cells": [
  {
   "attachments": {},
   "cell_type": "markdown",
   "metadata": {},
   "source": [
    "# Required Imports"
   ]
  },
  {
   "cell_type": "code",
   "execution_count": 1,
   "metadata": {},
   "outputs": [
    {
     "name": "stderr",
     "output_type": "stream",
     "text": [
      "[nltk_data] Downloading package stopwords to\n",
      "[nltk_data]     C:\\Users\\athar\\AppData\\Roaming\\nltk_data...\n",
      "[nltk_data]   Package stopwords is already up-to-date!\n"
     ]
    }
   ],
   "source": [
    "import os\n",
    "import sys\n",
    "import warnings\n",
    "import json\n",
    "import re\n",
    "import nltk\n",
    "from nltk.corpus import stopwords\n",
    "nltk.download('stopwords')\n",
    "\n",
    "warnings.filterwarnings('ignore')"
   ]
  },
  {
   "attachments": {},
   "cell_type": "markdown",
   "metadata": {},
   "source": [
    "# Implementing Lexicon"
   ]
  },
  {
   "cell_type": "code",
   "execution_count": 4,
   "metadata": {},
   "outputs": [],
   "source": [
    "json_file_path = r\"Files\\369news.json\"\n",
    "json_data = load_data_from_json(json_file_path)"
   ]
  },
  {
   "cell_type": "code",
   "execution_count": 18,
   "metadata": {},
   "outputs": [],
   "source": [
    "# Function that takes in content, preprocesses it, \n",
    "# and converts it to a list of words\n",
    "def pre_process_string(content):\n",
    "    # Remove \\n and \\t\n",
    "    content = content.replace('\\n', '')\n",
    "    content = content.replace('\\t', '')\n",
    "    # Remove all non-characters\n",
    "    content = re.sub(r'[^a-zA-Z\\s]', ' ', content)\n",
    "    # Convert all characters to lowercase\n",
    "    content = content.lower()\n",
    "    # Convert the title into a list of words\n",
    "    content = content.split()\n",
    "    # Remove one and two character words\n",
    "    content = [word for word in content if len(word) > 2]\n",
    "    # Remove stop_words using nltk\n",
    "    content = [word for word in content if not word in stopwords.words('english')]\n",
    "    return content\n",
    "    \n",
    "# Function that takes in a list of words and adds them to the lexicon\n",
    "def build_lexicon(words):\n",
    "    # Load the lexicon\n",
    "    data = load_data_from_json(r\"Files\\lexicon.json\")\n",
    "    with open(r\"Files\\lexicon.json\", \"w\") as file:\n",
    "        # Build the lexicon\n",
    "        new_words = []\n",
    "        # Look through the words\n",
    "        for word in words:\n",
    "            # if that word is not already in lexicon\n",
    "            if word not in data and word not in new_words:\n",
    "                # Then add it\n",
    "                new_words.append(word)\n",
    "        data.extend(new_words)\n",
    "        # Update the lexicon json file\n",
    "        json.dump(data, file, indent = 2)\n",
    "\n",
    "def sort_lexicon():\n",
    "    # Load the lexicon\n",
    "    data = load_data_from_json(r\"Files\\lexicon.json\")\n",
    "    with open(r\"Files\\lexicon.json\", \"w\") as file:\n",
    "        # sort the data\n",
    "        data = sorted(data)\n",
    "        json.dump(data, file, indent = 2)\n",
    "\n",
    "# Function to build forward index from raw articles\n",
    "def build_forward_index(articles):\n",
    "    # initialize forward_index\n",
    "    forward_index = dict()\n",
    "    # Load the already existing forward_index\n",
    "    data = load_data_from_json(r\"Files/forward_index.json\")\n",
    "    num_articles = len(data)\n",
    "    # For each article\n",
    "    for article in articles:\n",
    "        # Pre-process the title and content\n",
    "        title_words = pre_process_string(article['title'])\n",
    "        content_words = pre_process_string(article['content'])\n",
    "        # Update the lexicon\n",
    "        build_lexicon(title_words + content_words)\n",
    "        forward_index[num_articles] = {'title': article['title'], 'url': article['url'], 'words': title_words + content_words}\n",
    "        num_articles += 1\n",
    "    data.update(forward_index)\n",
    "    with open(r\"Files\\forward_index.json\", \"w\") as file:\n",
    "        json.dump(data, file, indent = 2)"
   ]
  },
  {
   "cell_type": "code",
   "execution_count": null,
   "metadata": {},
   "outputs": [],
   "source": []
  }
 ],
 "metadata": {
  "kernelspec": {
   "display_name": "Python 3 (ipykernel)",
   "language": "python",
   "name": "python3"
  },
  "language_info": {
   "codemirror_mode": {
    "name": "ipython",
    "version": 3
   },
   "file_extension": ".py",
   "mimetype": "text/x-python",
   "name": "python",
   "nbconvert_exporter": "python",
   "pygments_lexer": "ipython3",
   "version": "3.9.13"
  }
 },
 "nbformat": 4,
 "nbformat_minor": 4
}
