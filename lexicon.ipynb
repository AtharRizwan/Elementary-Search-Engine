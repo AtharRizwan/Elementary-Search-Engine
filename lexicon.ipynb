{
 "cells": [
  {
   "attachments": {},
   "cell_type": "markdown",
   "metadata": {},
   "source": [
    "# Required Imports"
   ]
  },
  {
   "cell_type": "code",
   "execution_count": 31,
   "metadata": {},
   "outputs": [
    {
     "name": "stderr",
     "output_type": "stream",
     "text": [
      "[nltk_data] Downloading package wordnet to\n",
      "[nltk_data]     C:\\Users\\athar\\AppData\\Roaming\\nltk_data...\n",
      "[nltk_data]   Package wordnet is already up-to-date!\n",
      "[nltk_data] Downloading package omw-1.4 to\n",
      "[nltk_data]     C:\\Users\\athar\\AppData\\Roaming\\nltk_data...\n",
      "[nltk_data]   Package omw-1.4 is already up-to-date!\n",
      "[nltk_data] Downloading package stopwords to\n",
      "[nltk_data]     C:\\Users\\athar\\AppData\\Roaming\\nltk_data...\n",
      "[nltk_data]   Package stopwords is already up-to-date!\n"
     ]
    }
   ],
   "source": [
    "import os\n",
    "import warnings\n",
    "import json\n",
    "import re\n",
    "import nltk\n",
    "from collections import Counter\n",
    "from nltk.corpus import stopwords\n",
    "from nltk.stem import WordNetLemmatizer\n",
    "nltk.download(\"wordnet\")\n",
    "nltk.download(\"omw-1.4\")\n",
    "nltk.download('stopwords')\n",
    "# Initialize Word_Net_Lemmatizer\n",
    "lemmatizer = WordNetLemmatizer()\n",
    "\n",
    "warnings.filterwarnings('ignore')"
   ]
  },
  {
   "attachments": {},
   "cell_type": "markdown",
   "metadata": {},
   "source": [
    "# Implementing Lexicon"
   ]
  },
  {
   "cell_type": "code",
   "execution_count": 39,
   "metadata": {},
   "outputs": [],
   "source": [
    "def load_data_from_json(file_path):\n",
    "    with open(file_path, 'r') as file:\n",
    "        data = json.load(file)\n",
    "    return data"
   ]
  },
  {
   "cell_type": "code",
   "execution_count": 46,
   "metadata": {},
   "outputs": [],
   "source": [
    "json_file_path = r\"Files\\articles_sampled_100.json\"\n",
    "json_data = load_data_from_json(json_file_path)"
   ]
  },
  {
   "cell_type": "code",
   "execution_count": 41,
   "metadata": {},
   "outputs": [],
   "source": [
    "# Function that takes in content, preprocesses it, \n",
    "# and converts it to a list of words\n",
    "def pre_process_string(content):\n",
    "    # Remove \\n and \\t\n",
    "    content = content.replace('\\n', ' ')\n",
    "    content = content.replace('\\t', ' ')\n",
    "    # Remove all non-characters\n",
    "    content = re.sub(r'[^a-zA-Z\\s]', ' ', content)\n",
    "    # Remove multiple spaces\n",
    "    content = re.sub(r'\\s+', ' ', content)\n",
    "    # Convert all characters to lowercase\n",
    "    content = content.lower()\n",
    "    # Convert the title into a list of words\n",
    "    content = content.split()\n",
    "    # Remove one and two character words\n",
    "    content = [word for word in content if len(word) > 2]\n",
    "    # Remove stop_words using nltk\n",
    "    content = [word for word in content if not word in stopwords.words('english')]\n",
    "    return content\n",
    "    \n",
    "# Function that takes in a list of words and adds them to the lexicon\n",
    "def build_lexicon(words, lexicon):\n",
    "    # Build the lexicon\n",
    "    new_words = []\n",
    "    # Look through the words\n",
    "    for word in words:\n",
    "        # Lemmatize the word\n",
    "        word = lemmatizer.lemmatize(word)\n",
    "        # if that word is not already in lexicon\n",
    "        if word not in lexicon and word not in new_words:\n",
    "            # Then add it\n",
    "            new_words.append(word)\n",
    "    lexicon.extend(new_words)\n",
    "    return lexicon\n",
    "\n",
    "def sort_lexicon():\n",
    "    # Load the lexicon\n",
    "    data = load_data_from_json(r\"Files\\lexicon.json\")\n",
    "    with open(r\"Files\\lexicon.json\", \"w\") as file:\n",
    "        # sort the data\n",
    "        data = sorted(data)\n",
    "        json.dump(data, file)\n",
    "\n",
    "# Function to build forward index from raw articles\n",
    "def build_forward_index(articles):\n",
    "    # initialize forward_index\n",
    "    forward_index = dict()\n",
    "    # Load the already existing forward_index\n",
    "    try:\n",
    "        data = load_data_from_json(r\"Files\\forward_index.json\")\n",
    "    except:\n",
    "        with open(r\"Files\\forward_index.json\", \"w\") as file:\n",
    "            json.dump(dict(), file)\n",
    "        data = load_data_from_json(r\"Files\\forward_index.json\")\n",
    "    # Load the lexicon\n",
    "    try:\n",
    "        lexicon = load_data_from_json(r\"Files\\lexicon.json\")\n",
    "    except:\n",
    "        with open(r\"Files\\lexicon.json\", \"w\") as file:\n",
    "            json.dump(list(), file)\n",
    "        lexicon = load_data_from_json(r\"Files\\lexicon.json\")\n",
    "    num_articles = len(data)\n",
    "    # For each article\n",
    "    for article in articles:\n",
    "        # Pre-process the title and content\n",
    "        title_words = pre_process_string(article['title'])\n",
    "        content_words = pre_process_string(article['content'])\n",
    "        # Update the lexicon\n",
    "        lexicon = build_lexicon(title_words + content_words, lexicon)\n",
    "        # Lemmatize the words in content and title\n",
    "        content_words = [lemmatizer.lemmatize(word) for word in content_words]\n",
    "        title_words = [lemmatizer.lemmatize(word) for word in title_words]\n",
    "        # Convert the words in title and content to their respective indexes\n",
    "        content_ids = [lexicon.index(word) for word in content_words]\n",
    "        title_ids = [lexicon.index(word) for word in title_words]\n",
    "        # Count the frequencies of words\n",
    "        frequency = Counter((title_ids * 10) + content_ids)\n",
    "        forward_index[num_articles] = {'title': article['title'], 'url': article['url'], 'hitlist': frequency}\n",
    "        num_articles += 1\n",
    "    data.update(forward_index)\n",
    "    # Update the lexicon json file\n",
    "    with open(r\"Files\\lexicon.json\", \"w\") as file:\n",
    "        json.dump(lexicon, file)\n",
    "    # Update the forward_index json file\n",
    "    with open(r\"Files\\forward_index.json\", \"w\") as file:\n",
    "        json.dump(data, file)"
   ]
  },
  {
   "cell_type": "code",
   "execution_count": 42,
   "metadata": {},
   "outputs": [
    {
     "name": "stdout",
     "output_type": "stream",
     "text": [
      "CPU times: total: 11.5 s\n",
      "Wall time: 11.6 s\n"
     ]
    }
   ],
   "source": [
    "%%time\n",
    "build_forward_index(json_data)"
   ]
  },
  {
   "cell_type": "code",
   "execution_count": 22,
   "metadata": {},
   "outputs": [],
   "source": [
    "sort_lexicon()"
   ]
  },
  {
   "cell_type": "code",
   "execution_count": 31,
   "metadata": {},
   "outputs": [
    {
     "name": "stdout",
     "output_type": "stream",
     "text": [
      "CPU times: total: 0 ns\n",
      "Wall time: 0 ns\n"
     ]
    }
   ],
   "source": [
    "%%time\n",
    "lemmatizer = WordNetLemmatizer()\n",
    "words = ['Hello', 'tests', 'forms', 'testers', 'indexes']\n",
    "for i in range(len(words)):\n",
    "    words[i] = lemmatizer.lemmatize(words[i])"
   ]
  },
  {
   "cell_type": "code",
   "execution_count": 32,
   "metadata": {},
   "outputs": [
    {
     "data": {
      "text/plain": [
       "['Hello', 'test', 'form', 'tester', 'index']"
      ]
     },
     "execution_count": 32,
     "metadata": {},
     "output_type": "execute_result"
    }
   ],
   "source": [
    "words"
   ]
  },
  {
   "cell_type": "code",
   "execution_count": 36,
   "metadata": {},
   "outputs": [],
   "source": [
    "# Load the lexicon\n",
    "lexicon = load_data_from_json(r\"Files\\lexicon.json\")"
   ]
  },
  {
   "cell_type": "markdown",
   "metadata": {},
   "source": [
    "## Implementing inverted index"
   ]
  },
  {
   "cell_type": "code",
   "execution_count": 43,
   "metadata": {},
   "outputs": [],
   "source": [
    "def build_inverted_index():\n",
    "    # Load the forward index\n",
    "    try:\n",
    "        forward_index = load_data_from_json(r\"Files\\forward_index.json\")\n",
    "    except:\n",
    "        with open(r\"Files\\forward_index.json\", \"w\") as file:\n",
    "            json.dump(dict(), file)\n",
    "        forward_index = load_data_from_json(r\"Files\\forward_index.json\")\n",
    "    # Load the inverted index\n",
    "    try:\n",
    "        inverted_index = load_data_from_json(r\"Files\\inverted_index.json\")\n",
    "    except:\n",
    "        with open(r\"Files\\inverted_index.json\", \"w\") as file:\n",
    "            json.dump(dict(), file)\n",
    "        inverted_index = load_data_from_json(r\"Files\\inverted_index.json\")\n",
    "\n",
    "    # Iterate through all articles in the forward_index\n",
    "    for doc_id, data in forward_index.items():\n",
    "        # Look at all words in an article\n",
    "        for word_id in data['hitlist']:\n",
    "            # If that word is not already in inverted index\n",
    "            if word_id not in inverted_index:\n",
    "                # Then create a list at that word_id\n",
    "                inverted_index[word_id] = list()\n",
    "            # And append the doc_id for that word  \n",
    "            inverted_index[word_id].append(doc_id)\n",
    "\n",
    "    # Update the inverted index\n",
    "    with open(r\"Files\\inverted_index.json\", \"w\") as file:\n",
    "        json.dump(inverted_index, file)"
   ]
  },
  {
   "cell_type": "code",
   "execution_count": 44,
   "metadata": {},
   "outputs": [
    {
     "name": "stdout",
     "output_type": "stream",
     "text": [
      "CPU times: total: 93.8 ms\n",
      "Wall time: 93.3 ms\n"
     ]
    }
   ],
   "source": [
    "%%time \n",
    "build_inverted_index()"
   ]
  },
  {
   "cell_type": "code",
   "execution_count": null,
   "metadata": {},
   "outputs": [],
   "source": []
  }
 ],
 "metadata": {
  "kernelspec": {
   "display_name": "Python 3 (ipykernel)",
   "language": "python",
   "name": "python3"
  },
  "language_info": {
   "codemirror_mode": {
    "name": "ipython",
    "version": 3
   },
   "file_extension": ".py",
   "mimetype": "text/x-python",
   "name": "python",
   "nbconvert_exporter": "python",
   "pygments_lexer": "ipython3",
   "version": "3.9.13"
  }
 },
 "nbformat": 4,
 "nbformat_minor": 4
}
