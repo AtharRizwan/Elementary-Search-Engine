{
 "cells": [
  {
   "attachments": {},
   "cell_type": "markdown",
   "metadata": {},
   "source": [
    "# Required Imports"
   ]
  },
  {
   "cell_type": "code",
   "execution_count": 1,
   "metadata": {},
   "outputs": [],
   "source": [
    "import pandas as pd\n",
    "import numpy as np\n",
    "import matplotlib.pyplot as plt\n",
    "import seaborn as sns\n",
    "import os\n",
    "import sys\n",
    "import warnings\n",
    "import csv\n",
    "import json\n",
    "from threading import Thread\n",
    "import multiprocessing\n",
    "\n",
    "warnings.filterwarnings('ignore')"
   ]
  },
  {
   "attachments": {},
   "cell_type": "markdown",
   "metadata": {},
   "source": [
    "# Reading Cleaned JSON Sample"
   ]
  },
  {
   "cell_type": "code",
   "execution_count": 2,
   "metadata": {},
   "outputs": [],
   "source": [
    "def display_json(file_path):\n",
    "    try:\n",
    "        with open(file_path, 'r') as file:\n",
    "            json_data = json.load(file)\n",
    "            # Use indent parameter to make the JSON data readable\n",
    "            readable_json = json.dumps(json_data, indent=4)\n",
    "            print(readable_json)\n",
    "    except FileNotFoundError:\n",
    "        print(f\"File '{file_path}' not found.\")\n",
    "    except json.JSONDecodeError as e:\n",
    "        print(f\"Error decoding JSON: {e}\")"
   ]
  },
  {
   "cell_type": "code",
   "execution_count": 3,
   "metadata": {},
   "outputs": [
    {
     "name": "stdout",
     "output_type": "stream",
     "text": [
      "File 'Files\\cleaned.json' not found.\n"
     ]
    }
   ],
   "source": [
    "display_json('Files\\cleaned.json')"
   ]
  },
  {
   "cell_type": "code",
   "execution_count": 4,
   "metadata": {},
   "outputs": [],
   "source": [
    "def build_forward_index(data):\n",
    "    forward_index = {}\n",
    "    \n",
    "    for doc_id, words in data[\"title\"].items():\n",
    "        forward_index[doc_id] = set(words)\n",
    "        \n",
    "    return forward_index\n",
    "\n",
    "def build_inverted_index(data):\n",
    "    inverted_index = {}\n",
    "    \n",
    "    for doc_id, words in data[\"title\"].items():\n",
    "        for word in words:\n",
    "            if word not in inverted_index:\n",
    "                inverted_index[word] = set()\n",
    "            inverted_index[word].add(doc_id)\n",
    "    \n",
    "    return inverted_index\n",
    "\n",
    "def load_data_from_json(file_path):\n",
    "    with open(file_path, 'r') as file:\n",
    "        data = json.load(file)\n",
    "    return data"
   ]
  },
  {
   "cell_type": "code",
   "execution_count": 5,
   "metadata": {},
   "outputs": [
    {
     "ename": "FileNotFoundError",
     "evalue": "[Errno 2] No such file or directory: 'Files\\\\cleaned.json'",
     "output_type": "error",
     "traceback": [
      "\u001b[1;31m---------------------------------------------------------------------------\u001b[0m",
      "\u001b[1;31mFileNotFoundError\u001b[0m                         Traceback (most recent call last)",
      "Cell \u001b[1;32mIn[5], line 2\u001b[0m\n\u001b[0;32m      1\u001b[0m json_file_path \u001b[39m=\u001b[39m \u001b[39m\"\u001b[39m\u001b[39mFiles\u001b[39m\u001b[39m\\\u001b[39m\u001b[39mcleaned.json\u001b[39m\u001b[39m\"\u001b[39m\n\u001b[1;32m----> 2\u001b[0m sample_data \u001b[39m=\u001b[39m load_data_from_json(json_file_path)\n\u001b[0;32m      4\u001b[0m forward_index \u001b[39m=\u001b[39m build_forward_index(sample_data)\n\u001b[0;32m      5\u001b[0m inverted_index \u001b[39m=\u001b[39m build_inverted_index(sample_data)\n",
      "Cell \u001b[1;32mIn[4], line 21\u001b[0m, in \u001b[0;36mload_data_from_json\u001b[1;34m(file_path)\u001b[0m\n\u001b[0;32m     20\u001b[0m \u001b[39mdef\u001b[39;00m \u001b[39mload_data_from_json\u001b[39m(file_path):\n\u001b[1;32m---> 21\u001b[0m     \u001b[39mwith\u001b[39;00m \u001b[39mopen\u001b[39;49m(file_path, \u001b[39m'\u001b[39;49m\u001b[39mr\u001b[39;49m\u001b[39m'\u001b[39;49m) \u001b[39mas\u001b[39;00m file:\n\u001b[0;32m     22\u001b[0m         data \u001b[39m=\u001b[39m json\u001b[39m.\u001b[39mload(file)\n\u001b[0;32m     23\u001b[0m     \u001b[39mreturn\u001b[39;00m data\n",
      "File \u001b[1;32mc:\\Users\\haris\\miniconda3\\envs\\forPyTorch\\Lib\\site-packages\\IPython\\core\\interactiveshell.py:284\u001b[0m, in \u001b[0;36m_modified_open\u001b[1;34m(file, *args, **kwargs)\u001b[0m\n\u001b[0;32m    277\u001b[0m \u001b[39mif\u001b[39;00m file \u001b[39min\u001b[39;00m {\u001b[39m0\u001b[39m, \u001b[39m1\u001b[39m, \u001b[39m2\u001b[39m}:\n\u001b[0;32m    278\u001b[0m     \u001b[39mraise\u001b[39;00m \u001b[39mValueError\u001b[39;00m(\n\u001b[0;32m    279\u001b[0m         \u001b[39mf\u001b[39m\u001b[39m\"\u001b[39m\u001b[39mIPython won\u001b[39m\u001b[39m'\u001b[39m\u001b[39mt let you open fd=\u001b[39m\u001b[39m{\u001b[39;00mfile\u001b[39m}\u001b[39;00m\u001b[39m by default \u001b[39m\u001b[39m\"\u001b[39m\n\u001b[0;32m    280\u001b[0m         \u001b[39m\"\u001b[39m\u001b[39mas it is likely to crash IPython. If you know what you are doing, \u001b[39m\u001b[39m\"\u001b[39m\n\u001b[0;32m    281\u001b[0m         \u001b[39m\"\u001b[39m\u001b[39myou can use builtins\u001b[39m\u001b[39m'\u001b[39m\u001b[39m open.\u001b[39m\u001b[39m\"\u001b[39m\n\u001b[0;32m    282\u001b[0m     )\n\u001b[1;32m--> 284\u001b[0m \u001b[39mreturn\u001b[39;00m io_open(file, \u001b[39m*\u001b[39;49margs, \u001b[39m*\u001b[39;49m\u001b[39m*\u001b[39;49mkwargs)\n",
      "\u001b[1;31mFileNotFoundError\u001b[0m: [Errno 2] No such file or directory: 'Files\\\\cleaned.json'"
     ]
    }
   ],
   "source": [
    "json_file_path = \"Files\\cleaned.json\"\n",
    "sample_data = load_data_from_json(json_file_path)\n",
    "\n",
    "forward_index = build_forward_index(sample_data)\n",
    "inverted_index = build_inverted_index(sample_data)\n",
    "\n",
    "print(\"Forward Index:\")\n",
    "print(forward_index)\n",
    "print(\"\\nInverted Index:\")\n",
    "print(inverted_index)"
   ]
  },
  {
   "attachments": {},
   "cell_type": "markdown",
   "metadata": {},
   "source": [
    "# Next Steps"
   ]
  },
  {
   "cell_type": "code",
   "execution_count": null,
   "metadata": {},
   "outputs": [],
   "source": [
    "class Node:\n",
    "    def __init__(self, key, value):\n",
    "        self.key = key\n",
    "        self.value = value\n",
    "        self.next = None\n",
    "\n",
    "class LinkedList:\n",
    "    def __init__(self):\n",
    "        self.head = None\n",
    "\n",
    "    def insert(self, key, value):\n",
    "        new_node = Node(key, value)\n",
    "        new_node.next = self.head\n",
    "        self.head = new_node\n",
    "\n",
    "    def search(self, key):\n",
    "        current = self.head\n",
    "        while current:\n",
    "            if current.key == key:\n",
    "                return current.value\n",
    "            current = current.next\n",
    "        return None\n",
    "    \n",
    "    def display(self):\n",
    "        values = []\n",
    "        current = self.head\n",
    "        while current:\n",
    "            values.append((current.key, current.value))\n",
    "            current = current.next\n",
    "        return values\n",
    "\n",
    "class HashTable:\n",
    "    def __init__(self, size):\n",
    "        self.size = size\n",
    "        self.table = [None] * size\n",
    "\n",
    "    def hash_function(self, key):\n",
    "        return hash(key) % self.size\n",
    "\n",
    "    def insert(self, key, value): \n",
    "        index = self.hash_function(key)\n",
    "        if self.table[index] is None:\n",
    "            self.table[index] = LinkedList()\n",
    "        self.table[index].insert(key, value)\n",
    "\n",
    "    def search(self, key):\n",
    "        index = self.hash_function(key)\n",
    "        if self.table[index] is not None:\n",
    "            return self.table[index].search(key)\n",
    "        return None\n",
    "    \n",
    "    def display(self):\n",
    "        table_values = []\n",
    "        for i, linked_list in enumerate(self.table):\n",
    "            if linked_list is not None:\n",
    "                values = linked_list.display()\n",
    "                for key, value in values:\n",
    "                    table_values.append((i, key, value))\n",
    "        return table_values"
   ]
  },
  {
   "cell_type": "code",
   "execution_count": null,
   "metadata": {},
   "outputs": [],
   "source": [
    "json_file_path = \"Files\\cleaned.json\"\n",
    "json_data = load_data_from_json(json_file_path)"
   ]
  },
  {
   "attachments": {},
   "cell_type": "markdown",
   "metadata": {},
   "source": [
    "# Code for Multi Search Word Query"
   ]
  },
  {
   "cell_type": "code",
   "execution_count": null,
   "metadata": {},
   "outputs": [],
   "source": [
    "def build_forward_index(data):\n",
    "    forward_index = HashTable(size=100)\n",
    "    for article_id, title_words in data[\"title\"].items(): \n",
    "        if article_id in data[\"content\"]:\n",
    "            content_words = data[\"content\"][article_id] \n",
    "            words = title_words + content_words\n",
    "\n",
    "            forward_index.insert(article_id, words)\n",
    "\n",
    "    return forward_index \n",
    " \n",
    "\n",
    "def build_inverted_index(data):\n",
    "    inverted_index = HashTable(size=100)\n",
    "    for article_id, words in data[\"content\"].items(): \n",
    "        topic = data[\"title\"][article_id]\n",
    "        url = data[\"url\"][article_id]\n",
    "    \n",
    "        for word in words:\n",
    "            if inverted_index.search(word):\n",
    "                inverted_index.search(word).append({\"article_id\": article_id, \"title\": topic, \"url\": url})\n",
    "            else:\n",
    "                inverted_index.insert(word, [{\"article_id\": article_id, \"title\": topic, \"url\": url}])\n",
    "\n",
    "    return inverted_index\n",
    "\n",
    "def single_word_search(inverted_index, word):\n",
    "    return inverted_index.search(word)\n",
    "\n",
    "def multi_word_search_2(inverted_index, query):\n",
    "    result = set()\n",
    "    words = query.split()\n",
    "    if words:\n",
    "        result = set(inverted_index.search(words[0]))\n",
    "        for word in words[1:]:\n",
    "            result.intersection_update(inverted_index.search(word))\n",
    "    return list(result)\n",
    "\n",
    "def multi_word_search(inverted_index, query):\n",
    "    result = set()\n",
    "    words = query.split()\n",
    "    if words:\n",
    "        result = set(inverted_index.search(words[0])) if inverted_index.search(words[0]) else set()\n",
    "        for word in words[1:]:\n",
    "            current_result = inverted_index.search(word)\n",
    "            if current_result:\n",
    "                result.intersection_update(current_result)\n",
    "    return list(result)\n",
    "\n",
    "\"\"\" def rank_results(data, results):\n",
    "    word_frequency = {}\n",
    "\n",
    "    for article in data:\n",
    "        article_id = article['article_id']\n",
    "        for word in article['title']:\n",
    "            word_frequency[word] = word_frequency.get(word, 0) + 1\n",
    "\n",
    "    return sorted(results, key=lambda x: sum(word_frequency[word] for word in data[x]['title']), reverse=True) \"\"\"\n",
    "\n",
    "from collections import Counter\n",
    "\n",
    "def rank_results(input_list): \n",
    "    counts = Counter(tuple(item['article_id']) for item in input_list) \n",
    "    sorted_list = sorted(input_list, key=lambda item: counts[tuple(item['article_id'])], reverse=True) \n",
    "    unique_set = set()\n",
    "    output = [item for item in sorted_list if tuple(item['title']) not in unique_set and not unique_set.add(tuple(item['article_id']))]\n",
    "    \n",
    "    return output\n",
    "\n",
    "def display_results(results):\n",
    "    for article_id in results:\n",
    "        print(f\"Article {article_id}: {data['content'][article_id]}\")\n",
    "\n",
    "def add_content(data, new_article):\n",
    "    article_id = str(len(data[\"index\"]))\n",
    "    data[\"index\"][article_id] = len(data[\"index\"])\n",
    "    data[\"source\"][article_id] = new_article[0]\n",
    "    data[\"title\"][article_id] = new_article[1]\n",
    "    data[\"content\"][article_id] = new_article[2]\n",
    "\n",
    "    return data\n",
    "\n",
    "def remove_duplicates(input_list, key = None):\n",
    "    seen = set()\n",
    "    result = []\n",
    "    \n",
    "    for item in input_list: \n",
    "        hashable_item = frozenset(item.items()) if key is None else item.get(key)\n",
    "        \n",
    "        if hashable_item not in seen:\n",
    "            seen.add(hashable_item)\n",
    "            result.append(item)\n",
    "    \n",
    "    return result"
   ]
  },
  {
   "attachments": {},
   "cell_type": "markdown",
   "metadata": {},
   "source": [
    "### Building Index"
   ]
  },
  {
   "cell_type": "code",
   "execution_count": null,
   "metadata": {},
   "outputs": [],
   "source": [
    "forward_index = build_forward_index(json_data)\n",
    "inverted_index = build_inverted_index(json_data)"
   ]
  },
  {
   "cell_type": "code",
   "execution_count": null,
   "metadata": {},
   "outputs": [
    {
     "name": "stdout",
     "output_type": "stream",
     "text": [
      "['fact', 'check', 'video', 'russian', 'column', 'wiped', 'out', 'ukrainian', 'mini', 'real', 'viral', 'video', 'seemingly', 'filmed', 'ukrainian', 'soldier', 'behind', 'enemy', 'lines', 'appears', 'show', 'ukrainian', 'zaz', 'zaporozhetsa', 'modified', 'version', 'sovietera', 'supermini', 'with', 'rocket', 'launchers', 'and', 'machine', 'guns', 'mounted', 'its', 'roofdestroying', 'whole', 'column', 'russian', 'tanks', 'and', 'vehicles', 'southern', 'ukraine', 'amid', 'ukraine', 'recent', 'tactical', 'triumphs', 'including', 'pushing', 'russian', 'forces', 'off', 'the', 'longcontested', 'snake', 'island', 'many', 'were', 'prepared', 'believe', 'that', 'the', 'scenes', 'depicted', 'the', 'clip', 'are', 'real', 'but', 'while', 'russia', 'invasion', 'ukraine', 'continues', 'generate', 'copious', 'amounts', 'striking', 'and', 'often', 'horrifying', 'modern', 'combat', 'the', 'authenticity', 'the', 'clip', 'saying', 'too', 'cinematic', 'true', 'several', 'telegram', 'channels', 'and', 'twitter', 'accounts', 'shared', 'video', 'unidentified', 'poster', 'thursday', 'featuring', 'battle', 'scene', 'between', 'convoy', 'russian', 'tanks', 'and', 'military', 'vehicles', 'and', 'what', 'appears', 'modified', 'ukrainian', 'zaz', 'mounted', 'with', 'various', 'weapons', 'who', 'knows', 'where', 'now', 'but', 'looks', 'like', 'the', 'orcs', 'are', 'approaching', 'guess', 'they', 'are', 'heading', 'towards', 'chernobaivka', 'says', 'the', 'ukrainian', 'voice', 'behind', 'the', 'camera', 'suddenly', 'vehicle', 'cameraman', 'shouts', 'what', 'the', 'hell', 'this', 'the', 'ensuing', 'seconds', 'the', 'ukrainian', 'car', 'begins', 'launching', 'rockets', 'and', 'firing', 'machine', 'guns', 'the', 'column', 'which', 'later', 'shown', 'obliterated', 'with', 'all', 'the', 'vehicles', 'fire', 'holy', 'terms', 'quality', 'performance', 'this', 'could', 'the', 'trailer', 'the', 'first', 'film', 'will', 'see', 'after', 'the', 'victory', 'one', 'the', 'first', 'accounts', 'share', 'the', 'clip', 'wrote', 'ukrainian', 'others', 'commented', 'that', 'the', 'vehicle', 'jokingly', 'referencing', 'russia', 'unsupported', 'claims', 'that', 'the', 'ukrainian', 'army', 'confiscating', 'privatelyowned', 'automobiles', 'for', 'military', 'use', 'such', 'vehicles', 'being', 'branded', 'banderomobiles', 'ukrainian', 'banderomobile', 'action', 'against', 'russian', 'tanks', 'wrote', 'one', 'user', 'caption', 'the', 'video', 'number', 'prominent', 'proukraine', 'telegram', 'accounts', 'have', 'also', 'shared', 'the', 'video', 'without', 'providing', 'any', 'context', 'commenting', 'its', 'provenance', 'while', 'some', 'were', 'impressed', 'ukraine', 'apparent', 'military', 'might', 'others', 'wondered', 'whether', 'the', 'footage', 'was', 'genuine', 'computergenerated', 'although', 'some', 'truly', 'fighting', 'between', 'russian', 'and', 'ukrainian', 'forces', 'this', 'particular', 'clip', 'fact', 'computer', 'generated', 'imagery', 'cgi', 'max', 'scherbina', 'the', 'twitter', 'user', 'who', 'was', 'one', 'the', 'first', 'share', 'the', 'video', 'confirmed', 'many', 'users', 'suspicions', 'followup', 'tweet', 'dear', 'englishspeaking', 'friends', 'this', 'highquality', 'cgi', 'work', 'author', 'unfamiliar', 'but', 'the', 'war', 'ukraine', 'real', 'and', 'right', 'now', 'you', 'can', 'help', 'small', 'public', 'initiative', 'rebuild', 'ukrainians', 'housing', 'destroyed', 'wrote', 'fact', 'the', 'video', 'was', 'made', 'kyivbased', 'visual', 'effects', 'vfx', 'artist', 'pavel', 'osadchiy', 'his', 'facebook', 'profile', 'states', 'that', 'freelance', 'movie', 'maker', 'and', 'cgi', 'generalist', 'shortly', 'after', 'the', 'video', 'began', 'trending', 'social', 'media', 'osadchiy', 'posted', 'number', 'stills', 'from', 'facebook', 'unfinished', 'video', 'the', 'banderamobile', 'leaked', 'online', 'before', 'had', 'time', 'complete', 'the', 'work', 'unfortunately', 'osadchiy', 'wrote', 'initial', 'plan', 'was', 'use', 'but', 'what', 'later', 'published', 'update', 'saying', 'that', 'the', 'positive', 'feedback', 'received', 'has', 'inspired', 'him', 'complete', 'the', 'project', 'newsweek', 'has', 'reached', 'out', 'osadchiy', 'for', 'comment', 'the', 'footage', 'supposedly', 'showing', 'modified', 'ukrainian', 'supermini', 'blowing', 'convoy', 'russian', 'tanks', 'and', 'vehicles', 'not', 'real', 'fact', 'unfinished', 'short', 'movie', 'project', 'kyivbased', 'vfx', 'artist']\n"
     ]
    }
   ],
   "source": [
    "print(forward_index.search(\"7\"))"
   ]
  },
  {
   "cell_type": "code",
   "execution_count": null,
   "metadata": {},
   "outputs": [
    {
     "data": {
      "text/plain": [
       "[{'article_id': '0',\n",
       "  'title': ['cristiano', 'ronaldo', 'given', 'deadline', 'respond', 'charge'],\n",
       "  'url': 'https://www.manchestereveningnews.co.uk/sport/football/football-news/breaking-ronaldo-news-fa-charge-25145277'},\n",
       " {'article_id': '1',\n",
       "  'title': ['more',\n",
       "   'maga',\n",
       "   'rioters',\n",
       "   'found',\n",
       "   'guilty',\n",
       "   'over',\n",
       "   'jan',\n",
       "   'attack'],\n",
       "  'url': 'https://bipartisanreport.com/2022/10/16/2-more-maga-rioters-found-guilty-over-jan-6-attack/'},\n",
       " {'article_id': '2',\n",
       "  'title': ['emotional',\n",
       "   'louise',\n",
       "   'thompson',\n",
       "   'fights',\n",
       "   'back',\n",
       "   'tears',\n",
       "   'she',\n",
       "   'reveals',\n",
       "   'shes',\n",
       "   'been',\n",
       "   'diagnosed',\n",
       "   'with',\n",
       "   'incurable',\n",
       "   'health',\n",
       "   'condition'],\n",
       "  'url': 'https://www.thesun.co.uk/tvandshowbiz/20762466/louise-thompson-diagnosed-lupus-made-chelsea-instagram-ptsd/'},\n",
       " {'article_id': '3',\n",
       "  'title': ['cooling',\n",
       "   'program',\n",
       "   'has',\n",
       "   'stopped',\n",
       "   'taking',\n",
       "   'new',\n",
       "   'applications',\n",
       "   'despite',\n",
       "   'heatwave'],\n",
       "  'url': 'https://nypost.com/2022/07/24/chuck-schumer-says-ny-cooling-program-has-stopped-taking-new-applications-amid-heatwave/'},\n",
       " {'article_id': '4',\n",
       "  'title': ['pope',\n",
       "   'considers',\n",
       "   'visiting',\n",
       "   'kyiv',\n",
       "   'rebukes',\n",
       "   'russia',\n",
       "   'for',\n",
       "   'savage',\n",
       "   'war',\n",
       "   'ukraine'],\n",
       "  'url': 'https://www.pbs.org/newshour/world/pope-considers-visiting-kyiv-rebukes-russia-for-savage-war-in-ukraine'},\n",
       " {'article_id': '5',\n",
       "  'title': ['messages',\n",
       "   'pulled',\n",
       "   'from',\n",
       "   'dead',\n",
       "   'familys',\n",
       "   'phone',\n",
       "   'solve',\n",
       "   'mystery',\n",
       "   'for',\n",
       "   'good',\n",
       "   'reveal',\n",
       "   'cascade',\n",
       "   'bad',\n",
       "   'decisions',\n",
       "   'that',\n",
       "   'led',\n",
       "   'disaster'],\n",
       "  'url': 'https://www.westernjournal.com/messages-pulled-dead-familys-phone-solve-mystery-good-reveal-cascade-bad-decisions-led-disaster/'},\n",
       " {'article_id': '6',\n",
       "  'title': ['twitter',\n",
       "   'revelations',\n",
       "   'illustrate',\n",
       "   'deep',\n",
       "   'state',\n",
       "   'involvement',\n",
       "   'first',\n",
       "   'amendment',\n",
       "   'violations'],\n",
       "  'url': 'https://thepoliticalinsider.com/twitter-revelations-illustrate-deep-state-involvement-in-first-amendment-violations/'},\n",
       " {'article_id': '7',\n",
       "  'title': ['fact',\n",
       "   'check',\n",
       "   'video',\n",
       "   'russian',\n",
       "   'column',\n",
       "   'wiped',\n",
       "   'out',\n",
       "   'ukrainian',\n",
       "   'mini',\n",
       "   'real'],\n",
       "  'url': 'https://www.newsweek.com/fact-check-video-russian-column-wiped-out-ukrainian-mini-real-1720911'},\n",
       " {'article_id': '8',\n",
       "  'title': ['marlborough',\n",
       "   'racing',\n",
       "   'tips',\n",
       "   'and',\n",
       "   'best',\n",
       "   'bets',\n",
       "   'for',\n",
       "   'todays',\n",
       "   'races'],\n",
       "  'url': 'https://www.telegraph.co.uk/racing/0/marlborough-racing-tips-best-bets-todays-races/'},\n",
       " {'article_id': '9',\n",
       "  'title': ['new',\n",
       "   'variant',\n",
       "   'this',\n",
       "   'one',\n",
       "   'more',\n",
       "   'fear',\n",
       "   'the',\n",
       "   'real',\n",
       "   'deal',\n",
       "   'neocov',\n",
       "   'has',\n",
       "   'high',\n",
       "   'mortality',\n",
       "   'rate'],\n",
       "  'url': 'https://www.shtfplan.com/headline-news/new-variant-is-this-one-more-fear-or-the-real-deal-neocov-has-a-high-mortality-rate'}]"
      ]
     },
     "execution_count": 60,
     "metadata": {},
     "output_type": "execute_result"
    }
   ],
   "source": [
    "results = remove_duplicates(inverted_index.search(\"for\"), key=\"article_id\")\n",
    "results"
   ]
  },
  {
   "attachments": {},
   "cell_type": "markdown",
   "metadata": {},
   "source": [
    "### Single Word Search"
   ]
  },
  {
   "cell_type": "code",
   "execution_count": null,
   "metadata": {},
   "outputs": [
    {
     "name": "stdout",
     "output_type": "stream",
     "text": [
      "Results for single word query 'for': [{'article_id': '0', 'title': ['cristiano', 'ronaldo', 'given', 'deadline', 'respond', 'charge'], 'url': 'https://www.manchestereveningnews.co.uk/sport/football/football-news/breaking-ronaldo-news-fa-charge-25145277'}, {'article_id': '1', 'title': ['more', 'maga', 'rioters', 'found', 'guilty', 'over', 'jan', 'attack'], 'url': 'https://bipartisanreport.com/2022/10/16/2-more-maga-rioters-found-guilty-over-jan-6-attack/'}, {'article_id': '2', 'title': ['emotional', 'louise', 'thompson', 'fights', 'back', 'tears', 'she', 'reveals', 'shes', 'been', 'diagnosed', 'with', 'incurable', 'health', 'condition'], 'url': 'https://www.thesun.co.uk/tvandshowbiz/20762466/louise-thompson-diagnosed-lupus-made-chelsea-instagram-ptsd/'}, {'article_id': '3', 'title': ['cooling', 'program', 'has', 'stopped', 'taking', 'new', 'applications', 'despite', 'heatwave'], 'url': 'https://nypost.com/2022/07/24/chuck-schumer-says-ny-cooling-program-has-stopped-taking-new-applications-amid-heatwave/'}, {'article_id': '4', 'title': ['pope', 'considers', 'visiting', 'kyiv', 'rebukes', 'russia', 'for', 'savage', 'war', 'ukraine'], 'url': 'https://www.pbs.org/newshour/world/pope-considers-visiting-kyiv-rebukes-russia-for-savage-war-in-ukraine'}, {'article_id': '5', 'title': ['messages', 'pulled', 'from', 'dead', 'familys', 'phone', 'solve', 'mystery', 'for', 'good', 'reveal', 'cascade', 'bad', 'decisions', 'that', 'led', 'disaster'], 'url': 'https://www.westernjournal.com/messages-pulled-dead-familys-phone-solve-mystery-good-reveal-cascade-bad-decisions-led-disaster/'}, {'article_id': '6', 'title': ['twitter', 'revelations', 'illustrate', 'deep', 'state', 'involvement', 'first', 'amendment', 'violations'], 'url': 'https://thepoliticalinsider.com/twitter-revelations-illustrate-deep-state-involvement-in-first-amendment-violations/'}, {'article_id': '7', 'title': ['fact', 'check', 'video', 'russian', 'column', 'wiped', 'out', 'ukrainian', 'mini', 'real'], 'url': 'https://www.newsweek.com/fact-check-video-russian-column-wiped-out-ukrainian-mini-real-1720911'}, {'article_id': '8', 'title': ['marlborough', 'racing', 'tips', 'and', 'best', 'bets', 'for', 'todays', 'races'], 'url': 'https://www.telegraph.co.uk/racing/0/marlborough-racing-tips-best-bets-todays-races/'}, {'article_id': '9', 'title': ['new', 'variant', 'this', 'one', 'more', 'fear', 'the', 'real', 'deal', 'neocov', 'has', 'high', 'mortality', 'rate'], 'url': 'https://www.shtfplan.com/headline-news/new-variant-is-this-one-more-fear-or-the-real-deal-neocov-has-a-high-mortality-rate'}]\n"
     ]
    }
   ],
   "source": [
    "single_word_query = \"for\"\n",
    "single_word_results = single_word_search(inverted_index, single_word_query)\n",
    "single_word_results = remove_duplicates(single_word_results, key=\"article_id\")\n",
    "\n",
    "print(f\"Results for single word query '{single_word_query}': {single_word_results}\")"
   ]
  },
  {
   "attachments": {},
   "cell_type": "markdown",
   "metadata": {},
   "source": [
    "### Multi Word Search"
   ]
  },
  {
   "cell_type": "code",
   "execution_count": null,
   "metadata": {},
   "outputs": [
    {
     "ename": "TypeError",
     "evalue": "unhashable type: 'dict'",
     "output_type": "error",
     "traceback": [
      "\u001b[1;31m---------------------------------------------------------------------------\u001b[0m",
      "\u001b[1;31mTypeError\u001b[0m                                 Traceback (most recent call last)",
      "Cell \u001b[1;32mIn[35], line 2\u001b[0m\n\u001b[0;32m      1\u001b[0m multi_word_query \u001b[39m=\u001b[39m \u001b[39m\"\u001b[39m\u001b[39mfor\u001b[39m\u001b[39m\"\u001b[39m\n\u001b[1;32m----> 2\u001b[0m multi_word_results \u001b[39m=\u001b[39m multi_word_search(inverted_index, multi_word_query)\n\u001b[0;32m      3\u001b[0m \u001b[39mprint\u001b[39m(\u001b[39mf\u001b[39m\u001b[39m\"\u001b[39m\u001b[39mResults for multi word query \u001b[39m\u001b[39m'\u001b[39m\u001b[39m{\u001b[39;00mmulti_word_query\u001b[39m}\u001b[39;00m\u001b[39m'\u001b[39m\u001b[39m: \u001b[39m\u001b[39m{\u001b[39;00mmulti_word_results\u001b[39m}\u001b[39;00m\u001b[39m\"\u001b[39m)\n",
      "Cell \u001b[1;32mIn[29], line 47\u001b[0m, in \u001b[0;36mmulti_word_search\u001b[1;34m(inverted_index, query)\u001b[0m\n\u001b[0;32m     45\u001b[0m words \u001b[39m=\u001b[39m query\u001b[39m.\u001b[39msplit()\n\u001b[0;32m     46\u001b[0m \u001b[39mif\u001b[39;00m words:\n\u001b[1;32m---> 47\u001b[0m     result \u001b[39m=\u001b[39m \u001b[39mset\u001b[39;49m(inverted_index\u001b[39m.\u001b[39;49msearch(words[\u001b[39m0\u001b[39;49m])) \u001b[39mif\u001b[39;00m inverted_index\u001b[39m.\u001b[39msearch(words[\u001b[39m0\u001b[39m]) \u001b[39melse\u001b[39;00m \u001b[39mset\u001b[39m()\n\u001b[0;32m     48\u001b[0m     \u001b[39mfor\u001b[39;00m word \u001b[39min\u001b[39;00m words[\u001b[39m1\u001b[39m:]:\n\u001b[0;32m     49\u001b[0m         current_result \u001b[39m=\u001b[39m inverted_index\u001b[39m.\u001b[39msearch(word)\n",
      "\u001b[1;31mTypeError\u001b[0m: unhashable type: 'dict'"
     ]
    }
   ],
   "source": [
    "multi_word_query = \"for\"\n",
    "multi_word_results = multi_word_search(inverted_index, multi_word_query)\n",
    "print(f\"Results for multi word query '{multi_word_query}': {multi_word_results}\")"
   ]
  },
  {
   "attachments": {},
   "cell_type": "markdown",
   "metadata": {},
   "source": [
    "### Ranking Results"
   ]
  },
  {
   "cell_type": "code",
   "execution_count": null,
   "metadata": {},
   "outputs": [
    {
     "name": "stdout",
     "output_type": "stream",
     "text": [
      "Ranked Results:\n"
     ]
    },
    {
     "data": {
      "text/plain": [
       "[{'article_id': '0',\n",
       "  'title': ['cristiano', 'ronaldo', 'given', 'deadline', 'respond', 'charge'],\n",
       "  'url': 'https://www.manchestereveningnews.co.uk/sport/football/football-news/breaking-ronaldo-news-fa-charge-25145277'},\n",
       " {'article_id': '1',\n",
       "  'title': ['more',\n",
       "   'maga',\n",
       "   'rioters',\n",
       "   'found',\n",
       "   'guilty',\n",
       "   'over',\n",
       "   'jan',\n",
       "   'attack'],\n",
       "  'url': 'https://bipartisanreport.com/2022/10/16/2-more-maga-rioters-found-guilty-over-jan-6-attack/'},\n",
       " {'article_id': '2',\n",
       "  'title': ['emotional',\n",
       "   'louise',\n",
       "   'thompson',\n",
       "   'fights',\n",
       "   'back',\n",
       "   'tears',\n",
       "   'she',\n",
       "   'reveals',\n",
       "   'shes',\n",
       "   'been',\n",
       "   'diagnosed',\n",
       "   'with',\n",
       "   'incurable',\n",
       "   'health',\n",
       "   'condition'],\n",
       "  'url': 'https://www.thesun.co.uk/tvandshowbiz/20762466/louise-thompson-diagnosed-lupus-made-chelsea-instagram-ptsd/'},\n",
       " {'article_id': '3',\n",
       "  'title': ['cooling',\n",
       "   'program',\n",
       "   'has',\n",
       "   'stopped',\n",
       "   'taking',\n",
       "   'new',\n",
       "   'applications',\n",
       "   'despite',\n",
       "   'heatwave'],\n",
       "  'url': 'https://nypost.com/2022/07/24/chuck-schumer-says-ny-cooling-program-has-stopped-taking-new-applications-amid-heatwave/'},\n",
       " {'article_id': '4',\n",
       "  'title': ['pope',\n",
       "   'considers',\n",
       "   'visiting',\n",
       "   'kyiv',\n",
       "   'rebukes',\n",
       "   'russia',\n",
       "   'for',\n",
       "   'savage',\n",
       "   'war',\n",
       "   'ukraine'],\n",
       "  'url': 'https://www.pbs.org/newshour/world/pope-considers-visiting-kyiv-rebukes-russia-for-savage-war-in-ukraine'},\n",
       " {'article_id': '5',\n",
       "  'title': ['messages',\n",
       "   'pulled',\n",
       "   'from',\n",
       "   'dead',\n",
       "   'familys',\n",
       "   'phone',\n",
       "   'solve',\n",
       "   'mystery',\n",
       "   'for',\n",
       "   'good',\n",
       "   'reveal',\n",
       "   'cascade',\n",
       "   'bad',\n",
       "   'decisions',\n",
       "   'that',\n",
       "   'led',\n",
       "   'disaster'],\n",
       "  'url': 'https://www.westernjournal.com/messages-pulled-dead-familys-phone-solve-mystery-good-reveal-cascade-bad-decisions-led-disaster/'},\n",
       " {'article_id': '6',\n",
       "  'title': ['twitter',\n",
       "   'revelations',\n",
       "   'illustrate',\n",
       "   'deep',\n",
       "   'state',\n",
       "   'involvement',\n",
       "   'first',\n",
       "   'amendment',\n",
       "   'violations'],\n",
       "  'url': 'https://thepoliticalinsider.com/twitter-revelations-illustrate-deep-state-involvement-in-first-amendment-violations/'},\n",
       " {'article_id': '7',\n",
       "  'title': ['fact',\n",
       "   'check',\n",
       "   'video',\n",
       "   'russian',\n",
       "   'column',\n",
       "   'wiped',\n",
       "   'out',\n",
       "   'ukrainian',\n",
       "   'mini',\n",
       "   'real'],\n",
       "  'url': 'https://www.newsweek.com/fact-check-video-russian-column-wiped-out-ukrainian-mini-real-1720911'},\n",
       " {'article_id': '8',\n",
       "  'title': ['marlborough',\n",
       "   'racing',\n",
       "   'tips',\n",
       "   'and',\n",
       "   'best',\n",
       "   'bets',\n",
       "   'for',\n",
       "   'todays',\n",
       "   'races'],\n",
       "  'url': 'https://www.telegraph.co.uk/racing/0/marlborough-racing-tips-best-bets-todays-races/'},\n",
       " {'article_id': '9',\n",
       "  'title': ['new',\n",
       "   'variant',\n",
       "   'this',\n",
       "   'one',\n",
       "   'more',\n",
       "   'fear',\n",
       "   'the',\n",
       "   'real',\n",
       "   'deal',\n",
       "   'neocov',\n",
       "   'has',\n",
       "   'high',\n",
       "   'mortality',\n",
       "   'rate'],\n",
       "  'url': 'https://www.shtfplan.com/headline-news/new-variant-is-this-one-more-fear-or-the-real-deal-neocov-has-a-high-mortality-rate'}]"
      ]
     },
     "execution_count": 68,
     "metadata": {},
     "output_type": "execute_result"
    }
   ],
   "source": [
    "ranked_results = rank_results(results)\n",
    "print(\"Ranked Results:\")\n",
    "ranked_results"
   ]
  },
  {
   "attachments": {},
   "cell_type": "markdown",
   "metadata": {},
   "source": [
    "### Adding New Stuff"
   ]
  },
  {
   "cell_type": "code",
   "execution_count": null,
   "metadata": {},
   "outputs": [
    {
     "name": "stdout",
     "output_type": "stream",
     "text": [
      "\n",
      "Results after adding new content:\n",
      "Article 7: ['viral', 'video', 'seemingly', 'filmed', 'ukrainian', 'soldier', 'behind', 'enemy', 'lines', 'appears', 'show', 'ukrainian', 'zaz', 'zaporozhetsa', 'modified', 'version', 'sovietera', 'supermini', 'with', 'rocket', 'launchers', 'and', 'machine', 'guns', 'mounted', 'its', 'roofdestroying', 'whole', 'column', 'russian', 'tanks', 'and', 'vehicles', 'southern', 'ukraine', 'amid', 'ukraine', 'recent', 'tactical', 'triumphs', 'including', 'pushing', 'russian', 'forces', 'off', 'the', 'longcontested', 'snake', 'island', 'many', 'were', 'prepared', 'believe', 'that', 'the', 'scenes', 'depicted', 'the', 'clip', 'are', 'real', 'but', 'while', 'russia', 'invasion', 'ukraine', 'continues', 'generate', 'copious', 'amounts', 'striking', 'and', 'often', 'horrifying', 'modern', 'combat', 'the', 'authenticity', 'the', 'clip', 'saying', 'too', 'cinematic', 'true', 'several', 'telegram', 'channels', 'and', 'twitter', 'accounts', 'shared', 'video', 'unidentified', 'poster', 'thursday', 'featuring', 'battle', 'scene', 'between', 'convoy', 'russian', 'tanks', 'and', 'military', 'vehicles', 'and', 'what', 'appears', 'modified', 'ukrainian', 'zaz', 'mounted', 'with', 'various', 'weapons', 'who', 'knows', 'where', 'now', 'but', 'looks', 'like', 'the', 'orcs', 'are', 'approaching', 'guess', 'they', 'are', 'heading', 'towards', 'chernobaivka', 'says', 'the', 'ukrainian', 'voice', 'behind', 'the', 'camera', 'suddenly', 'vehicle', 'cameraman', 'shouts', 'what', 'the', 'hell', 'this', 'the', 'ensuing', 'seconds', 'the', 'ukrainian', 'car', 'begins', 'launching', 'rockets', 'and', 'firing', 'machine', 'guns', 'the', 'column', 'which', 'later', 'shown', 'obliterated', 'with', 'all', 'the', 'vehicles', 'fire', 'holy', 'terms', 'quality', 'performance', 'this', 'could', 'the', 'trailer', 'the', 'first', 'film', 'will', 'see', 'after', 'the', 'victory', 'one', 'the', 'first', 'accounts', 'share', 'the', 'clip', 'wrote', 'ukrainian', 'others', 'commented', 'that', 'the', 'vehicle', 'jokingly', 'referencing', 'russia', 'unsupported', 'claims', 'that', 'the', 'ukrainian', 'army', 'confiscating', 'privatelyowned', 'automobiles', 'for', 'military', 'use', 'such', 'vehicles', 'being', 'branded', 'banderomobiles', 'ukrainian', 'banderomobile', 'action', 'against', 'russian', 'tanks', 'wrote', 'one', 'user', 'caption', 'the', 'video', 'number', 'prominent', 'proukraine', 'telegram', 'accounts', 'have', 'also', 'shared', 'the', 'video', 'without', 'providing', 'any', 'context', 'commenting', 'its', 'provenance', 'while', 'some', 'were', 'impressed', 'ukraine', 'apparent', 'military', 'might', 'others', 'wondered', 'whether', 'the', 'footage', 'was', 'genuine', 'computergenerated', 'although', 'some', 'truly', 'fighting', 'between', 'russian', 'and', 'ukrainian', 'forces', 'this', 'particular', 'clip', 'fact', 'computer', 'generated', 'imagery', 'cgi', 'max', 'scherbina', 'the', 'twitter', 'user', 'who', 'was', 'one', 'the', 'first', 'share', 'the', 'video', 'confirmed', 'many', 'users', 'suspicions', 'followup', 'tweet', 'dear', 'englishspeaking', 'friends', 'this', 'highquality', 'cgi', 'work', 'author', 'unfamiliar', 'but', 'the', 'war', 'ukraine', 'real', 'and', 'right', 'now', 'you', 'can', 'help', 'small', 'public', 'initiative', 'rebuild', 'ukrainians', 'housing', 'destroyed', 'wrote', 'fact', 'the', 'video', 'was', 'made', 'kyivbased', 'visual', 'effects', 'vfx', 'artist', 'pavel', 'osadchiy', 'his', 'facebook', 'profile', 'states', 'that', 'freelance', 'movie', 'maker', 'and', 'cgi', 'generalist', 'shortly', 'after', 'the', 'video', 'began', 'trending', 'social', 'media', 'osadchiy', 'posted', 'number', 'stills', 'from', 'facebook', 'unfinished', 'video', 'the', 'banderamobile', 'leaked', 'online', 'before', 'had', 'time', 'complete', 'the', 'work', 'unfortunately', 'osadchiy', 'wrote', 'initial', 'plan', 'was', 'use', 'but', 'what', 'later', 'published', 'update', 'saying', 'that', 'the', 'positive', 'feedback', 'received', 'has', 'inspired', 'him', 'complete', 'the', 'project', 'newsweek', 'has', 'reached', 'out', 'osadchiy', 'for', 'comment', 'the', 'footage', 'supposedly', 'showing', 'modified', 'ukrainian', 'supermini', 'blowing', 'convoy', 'russian', 'tanks', 'and', 'vehicles', 'not', 'real', 'fact', 'unfinished', 'short', 'movie', 'project', 'kyivbased', 'vfx', 'artist']\n"
     ]
    }
   ],
   "source": [
    "new_article = [\"courseralearningacademy\", [\"Machine\", \"Learning\", \"AI\", \"Python\"], [      \n",
    "      \"andor\",\n",
    "      \"violent\",\n",
    "      \"ronaldo\",\n",
    "      \"was\",\n",
    "      \"filmed\",\n",
    "      \"knocking\",\n",
    "      \"fan\",\n",
    "      \"phone\",\n",
    "      \"the\",\n",
    "      \"floor\",\n",
    "      \"united\",\n",
    "      \"players\",\n",
    "      \"approached\",\n",
    "      \"the\",\n",
    "      \"away\",\n",
    "      \"dressing\",\n",
    "      \"room\",\n",
    "      \"following\",\n",
    "      \"the\",\n",
    "      \"loss\",\n",
    "      \"also\",\n",
    "      \"read\",\n",
    "      \"waiting\",\n",
    "      \"for\",\n",
    "      \"the\",]\n",
    "]\n",
    "json_data = add_content(json_data, new_article)\n",
    "\n",
    "forward_index = build_forward_index(json_data)\n",
    "inverted_index = build_inverted_index(json_data)\n",
    "\n",
    "new_results = multi_word_search(inverted_index, \"machine learning AI python\")\n",
    "print(\"\\nResults after adding new content:\")\n",
    "display_results(json_data, new_results)"
   ]
  },
  {
   "cell_type": "code",
   "execution_count": null,
   "metadata": {},
   "outputs": [],
   "source": []
  }
 ],
 "metadata": {
  "kernelspec": {
   "display_name": "Python 3",
   "language": "python",
   "name": "python3"
  },
  "language_info": {
   "codemirror_mode": {
    "name": "ipython",
    "version": 3
   },
   "file_extension": ".py",
   "mimetype": "text/x-python",
   "name": "python",
   "nbconvert_exporter": "python",
   "pygments_lexer": "ipython3",
   "version": "3.11.4"
  },
  "orig_nbformat": 4
 },
 "nbformat": 4,
 "nbformat_minor": 2
}
